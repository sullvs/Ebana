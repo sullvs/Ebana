{
 "cells": [
  {
   "cell_type": "code",
   "execution_count": null,
   "metadata": {},
   "outputs": [],
   "source": [
    "#Stage 1 (STT)\n",
    "# Import necessary libraries for Speech to Text\n",
    "import neuralspace as ns\n",
    "FileName='/content/audio.ogg'\n",
    "# Configure the API settings and file details\n",
    "vai = ns.VoiceAI(api_key='your_api_key')\n",
    "config = {\n",
    "    'file_transcription': {\n",
    "        'language_id': 'ar-ms',\n",
    "        'mode': 'advanced'\n",
    "    }\n",
    "}\n",
    "\n",
    "# Create a new file transcription job\n",
    "job_id = vai.transcribe(file=FileName, config=config)\n",
    "print(f'Created job: {job_id}')\n",
    "\n",
    "# Check the job's status and wait for completion\n",
    "result = vai.get_job_status(job_id)\n",
    "print(f'Current status: {result}')\n",
    "print('Waiting for completion...')\n",
    "result = vai.poll_until_complete(job_id)\n",
    "print(result)\n",
    "text_result = result['data']['result']['transcription']['transcript']\n"
   ]
  },
  {
   "cell_type": "code",
   "execution_count": null,
   "metadata": {},
   "outputs": [],
   "source": [
    "#Stage 2 (TTT)\n",
    "# Import necessary libraries for Text to Text Processing\n",
    "import textwrap\n",
    "from IPython.display import display, Markdown\n",
    "\n",
    "# Define helper function for formatting text to Markdown\n",
    "def to_markdown(text):\n",
    "    text = text.replace('.', ' *')\n",
    "    return Markdown(textwrap.indent(text, ' ', predicate=lambda _: True))\n",
    "\n",
    "# Sample text transformation (update as per the requirements)\n",
    "input_text = text_result\n",
    "prompt_text = f\"You will be provided with text. Remove any repeated words or phrases that result from the stutter. Adjust the output: {input_text}\"\n",
    "model_id = 'gemini-pro'  # specify the model id if needed\n",
    "\n",
    "# Assuming a function to call a generative model is defined (e.g., generative_model.generate)\n",
    "response = generative_model.generate(prompt_text)\n",
    "fixed_text = response.text  # Extracting processed text from the model's response\n"
   ]
  },
  {
   "cell_type": "code",
   "execution_count": null,
   "metadata": {},
   "outputs": [],
   "source": [
    "#Stage 3 (TTS)\n",
    "# Import necessary libraries for Text to Speech\n",
    "import requests\n",
    "\n",
    "# Configure the ElevenLabs API for text to speech\n",
    "elevenlabs_api_key = 'your_elevenlabs_api_key'\n",
    "client = ElevenLabs(api_key=elevenlabs_api_key)\n",
    "voice = client.clone(\n",
    "    name=\"Sara\",\n",
    "    description=\"A 20-year-old woman discusses her daily routine.\",\n",
    "    files=[FileName]\n",
    ")\n",
    "\n",
    "# Generate speech from text\n",
    "voice_id = voice.voice_id\n",
    "url = f\"https://api.elevenlabs.io/v1/text-to-speech/{voice_id}\"\n",
    "headers = {\n",
    "    \"Accept\": \"audio/mpeg\",\n",
    "    \"Content-Type\": \"application/json\",\n",
    "    \"xi-api-key\": elevenlabs_api_key\n",
    "}\n",
    "data = {\n",
    "    \"text\": fixed_text,\n",
    "    \"model_id\": \"eleven_multilingual_v2\",\n",
    "    \"voice_settings\": {\n",
    "        \"stability\": 0.5,\n",
    "        \"similarity_boost\": 0.75\n",
    "    }\n",
    "}\n",
    "response = requests.post(url, json=data, headers=headers)\n",
    "\n",
    "# Save the audio output\n",
    "output_file = 'output.mp3'\n",
    "with open(output_file, 'wb') as f:\n",
    "    for chunk in response.iter_content(chunk_size=1024):\n",
    "        if chunk:\n",
    "            f.write(chunk)\n",
    "\n",
    "print(f\"Audio output saved as {output_file}\")\n"
   ]
  }
 ],
 "metadata": {
  "kernelspec": {
   "display_name": "Python 3.9.12 ('base')",
   "language": "python",
   "name": "python3"
  },
  "language_info": {
   "name": "python",
   "version": "3.9.12"
  },
  "orig_nbformat": 4,
  "vscode": {
   "interpreter": {
    "hash": "84a04107e86851c28f6d4c398d5a5a2b1f757414cc48781cbe0e3ea069fb0f97"
   }
  }
 },
 "nbformat": 4,
 "nbformat_minor": 2
}
